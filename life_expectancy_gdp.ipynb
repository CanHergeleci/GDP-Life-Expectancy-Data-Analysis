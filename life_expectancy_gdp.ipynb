{
 "cells": [
  {
   "cell_type": "markdown",
   "metadata": {},
   "source": [
    "# GDP and Life Expectancy Analysis\n",
    "\n",
    "## Introduction  \n",
    "This project explores the relationship between **GDP per capita** and **life expectancy** across different countries and years. The aim is to understand how economic development and health outcomes are connected, and whether wealthier nations always enjoy longer lives.  \n",
    "\n",
    "## Dataset  \n",
    "I will be using the dataset **`all_data.csv`**, which contains information on GDP per capita and life expectancy across multiple countries and years. This dataset allows us to examine both overall trends and country-level differences.  \n",
    "\n",
    "## Research Questions  \n",
    "In this analysis, I plan to investigate the following:  \n",
    "- Is there a relationship between GDP and like expectancy?\n",
    "- How does this relationship differ between countries?\n",
    "- How has this changed over time? Has life expectancy increased or decreased?\n",
    "- Do the richer countries always have longer life expectancies?\n",
    "\n",
    "## Goal  \n",
    "By the end of this project, I aim to summarize key insights about the relationship between GDP and life expectancy, highlight interesting patterns or outliers, and build a foundation for further exploration of health and economic data."
   ]
  },
  {
   "cell_type": "markdown",
   "metadata": {},
   "source": [
    "## Data Overview"
   ]
  },
  {
   "cell_type": "code",
   "execution_count": 23,
   "metadata": {},
   "outputs": [
    {
     "name": "stdout",
     "output_type": "stream",
     "text": [
      "  Country  Year  Life expectancy at birth (years)           GDP\n",
      "0   Chile  2000                              77.3  7.786093e+10\n",
      "1   Chile  2001                              77.3  7.097992e+10\n",
      "2   Chile  2002                              77.8  6.973681e+10\n",
      "3   Chile  2003                              77.9  7.564346e+10\n",
      "4   Chile  2004                              78.0  9.921039e+10\n"
     ]
    }
   ],
   "source": [
    "import pandas as pd\n",
    "import numpy as np\n",
    "import matplotlib.pyplot as plt\n",
    "import seaborn as sns\n",
    "\n",
    "# Import data\n",
    "gdp_life_df = pd.read_csv('all_data.csv')\n",
    "\n",
    "# View first couple rows to see structure of DF\n",
    "print(gdp_life_df.head())"
   ]
  },
  {
   "cell_type": "code",
   "execution_count": 22,
   "metadata": {},
   "outputs": [
    {
     "name": "stdout",
     "output_type": "stream",
     "text": [
      "<class 'pandas.core.frame.DataFrame'>\n",
      "RangeIndex: 96 entries, 0 to 95\n",
      "Data columns (total 4 columns):\n",
      " #   Column           Non-Null Count  Dtype  \n",
      "---  ------           --------------  -----  \n",
      " 0   Country          96 non-null     object \n",
      " 1   Year             96 non-null     int64  \n",
      " 2   Life_Expectancy  96 non-null     float64\n",
      " 3   GDP              96 non-null     float64\n",
      "dtypes: float64(2), int64(1), object(1)\n",
      "memory usage: 3.1+ KB\n",
      "None\n"
     ]
    }
   ],
   "source": [
    "# Overview of data\n",
    "print(gdp_life_df.info())"
   ]
  },
  {
   "cell_type": "markdown",
   "metadata": {},
   "source": [
    "## Data Cleaning & Preparation"
   ]
  },
  {
   "cell_type": "markdown",
   "metadata": {},
   "source": [
    "There doesnt seem to be any missing values within the table based on the overview of the data."
   ]
  },
  {
   "cell_type": "code",
   "execution_count": 27,
   "metadata": {},
   "outputs": [
    {
     "name": "stdout",
     "output_type": "stream",
     "text": [
      "  Country  Year  Life_Expectancy           GDP\n",
      "0   Chile  2000             77.3  7.786093e+10\n"
     ]
    }
   ],
   "source": [
    "# Rename life expectancy column for easier access\n",
    "gdp_life_df.rename(columns={'Life expectancy at birth (years)': 'Life_Expectancy'}, inplace=True)\n",
    "\n",
    "# Check if column name has been changed\n",
    "print(gdp_life_df.head(1))"
   ]
  },
  {
   "cell_type": "markdown",
   "metadata": {},
   "source": [
    "There doesnt seem to be any type conversions required as all columns are in the appropriate data type"
   ]
  },
  {
   "cell_type": "markdown",
   "metadata": {},
   "source": [
    "## Exploratory Data Analysis"
   ]
  },
  {
   "cell_type": "markdown",
   "metadata": {},
   "source": [
    "## Insights & Findings"
   ]
  },
  {
   "cell_type": "markdown",
   "metadata": {},
   "source": [
    "## Conclusion"
   ]
  }
 ],
 "metadata": {
  "kernelspec": {
   "display_name": "Python [conda env:base] *",
   "language": "python",
   "name": "conda-base-py"
  },
  "language_info": {
   "codemirror_mode": {
    "name": "ipython",
    "version": 3
   },
   "file_extension": ".py",
   "mimetype": "text/x-python",
   "name": "python",
   "nbconvert_exporter": "python",
   "pygments_lexer": "ipython3",
   "version": "3.13.5"
  }
 },
 "nbformat": 4,
 "nbformat_minor": 4
}
